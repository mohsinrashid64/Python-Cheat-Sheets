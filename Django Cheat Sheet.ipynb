{
 "cells": [
  {
   "cell_type": "markdown",
   "id": "f9812ff2",
   "metadata": {},
   "source": [
    "# Create Django Project"
   ]
  },
  {
   "cell_type": "code",
   "execution_count": null,
   "id": "8541167b",
   "metadata": {},
   "outputs": [],
   "source": [
    "django-admin startproject monthly_challenges"
   ]
  },
  {
   "cell_type": "markdown",
   "id": "03166386",
   "metadata": {},
   "source": [
    "# Create Django App/View"
   ]
  },
  {
   "cell_type": "code",
   "execution_count": null,
   "id": "c4e9085b",
   "metadata": {},
   "outputs": [],
   "source": [
    " python3 manage.py startapp challenges  "
   ]
  },
  {
   "cell_type": "markdown",
   "id": "904df537",
   "metadata": {},
   "source": [
    "# Run Server"
   ]
  },
  {
   "cell_type": "code",
   "execution_count": null,
   "id": "1d4a1d00",
   "metadata": {},
   "outputs": [],
   "source": [
    "python3 manage.py runserver"
   ]
  },
  {
   "cell_type": "code",
   "execution_count": 2,
   "id": "2edd333e",
   "metadata": {},
   "outputs": [
    {
     "name": "stdout",
     "output_type": "stream",
     "text": [
      "Bokeh Cheatsheet.ipynb\r\n",
      "Django Cheat Sheet.ipynb\r\n",
      "Folium Cheatsheet.ipynb\r\n",
      "Matplotlib Cheat Sheet.ipynb\r\n",
      "Matplotlib, Seaborn & Bokeh Cheat Sheet.ipynb\r\n",
      "Numpy Cheat Sheet.ipynb\r\n",
      "Pandas Cheatsheet.ipynb\r\n",
      "Plotly Cheatsheet.ipynb\r\n",
      "\u001b[34mPython-Data-Understanding-Data-Visualization-master\u001b[m\u001b[m\r\n",
      "Python-Data-Understanding-Data-Visualization-master.zip\r\n",
      "Seaborn Cheat Sheet.ipynb\r\n",
      "TMUX Cheat Sheet.ipynb\r\n",
      "adult.data\r\n",
      "adult.names\r\n",
      "covid_19_data.csv\r\n",
      "covid_19_till_19_May_2020.csv\r\n",
      "demo.html\r\n",
      "kratos.png\r\n"
     ]
    }
   ],
   "source": [
    "!ls"
   ]
  },
  {
   "cell_type": "code",
   "execution_count": null,
   "id": "7e7edfab",
   "metadata": {},
   "outputs": [],
   "source": [
    "python3 manage.py migrate"
   ]
  },
  {
   "cell_type": "code",
   "execution_count": null,
   "id": "5ed8b7f4",
   "metadata": {},
   "outputs": [],
   "source": [
    "python3 manage.py makemigrations food"
   ]
  },
  {
   "cell_type": "code",
   "execution_count": null,
   "id": "879aa0af",
   "metadata": {},
   "outputs": [],
   "source": [
    "python3 manage.py sqlmigrate food 0001"
   ]
  },
  {
   "cell_type": "code",
   "execution_count": null,
   "id": "81ef95de",
   "metadata": {},
   "outputs": [],
   "source": [
    "python3 manage.py createsuperuser"
   ]
  },
  {
   "cell_type": "markdown",
   "id": "24aa0928",
   "metadata": {},
   "source": [
    "# To enter python shell"
   ]
  },
  {
   "cell_type": "code",
   "execution_count": null,
   "id": "f34a8c38",
   "metadata": {},
   "outputs": [],
   "source": [
    "python3 manage.py shell"
   ]
  },
  {
   "cell_type": "code",
   "execution_count": null,
   "id": "63970ff1",
   "metadata": {},
   "outputs": [],
   "source": [
    " CV_data(first_name=\"Ali\",last_name=\"Shiekh\",email=\"abc@gmail.com\",phone=\"12345678\",about_yourself=\"nothing\",interests=\"\")\n"
   ]
  },
  {
   "cell_type": "markdown",
   "id": "e7628571",
   "metadata": {},
   "source": [
    "# To Delete All Migrations/Models"
   ]
  },
  {
   "cell_type": "code",
   "execution_count": null,
   "id": "d5db989c",
   "metadata": {},
   "outputs": [],
   "source": [
    "python manage.py makemigrations --empty cv_app "
   ]
  },
  {
   "cell_type": "markdown",
   "id": "a89f18b3",
   "metadata": {},
   "source": [
    "# To Delete All Data in shell "
   ]
  },
  {
   "cell_type": "code",
   "execution_count": null,
   "id": "771a242a",
   "metadata": {},
   "outputs": [],
   "source": [
    "Modal_Name.objects.all().delete()\n"
   ]
  },
  {
   "cell_type": "code",
   "execution_count": null,
   "id": "a77132e1",
   "metadata": {},
   "outputs": [],
   "source": [
    "CV_data(first_name=\"Ali\",last_name=\"Shiekh\",email=\"abc@gmail.com\",phone=\"12345678\",about_yourself=\"nothing\",interests=\"\")\n"
   ]
  },
  {
   "cell_type": "code",
   "execution_count": null,
   "id": "71a208b4",
   "metadata": {},
   "outputs": [],
   "source": [
    "from django.db import models\n",
    "\n",
    "# Create your models here.\n",
    "\n",
    "\n",
    "\n",
    "\n",
    "class Interests(models.Model):\n",
    "    interest = models.CharField(max_length=200)\n",
    "\n",
    "\n",
    "\n",
    "class CV_data(models.Model):\n",
    " \n",
    "    first_name = models.CharField(max_length=200)\n",
    "    last_name = models.CharField(max_length=200)\n",
    "    email = models.CharField(max_length=200)  \n",
    "    phone = models.CharField(max_length=200)\n",
    "    about_yourself = models.TextField(max_length=2000)\n",
    "\n",
    "    interests=models.ManyToManyField(Interests)\n",
    "\n",
    "\n"
   ]
  },
  {
   "cell_type": "code",
   "execution_count": null,
   "id": "23f429d2",
   "metadata": {},
   "outputs": [],
   "source": []
  },
  {
   "cell_type": "code",
   "execution_count": null,
   "id": "ae5e8548",
   "metadata": {},
   "outputs": [],
   "source": [
    "cv = CV_data.objects.get(id=1) # assuming you have a CV_data object with id 1\n",
    "interests = cv.interests.all()\n",
    "interests"
   ]
  },
  {
   "cell_type": "code",
   "execution_count": null,
   "id": "7097d22d",
   "metadata": {},
   "outputs": [],
   "source": []
  },
  {
   "cell_type": "code",
   "execution_count": null,
   "id": "7e04d5f2",
   "metadata": {},
   "outputs": [],
   "source": []
  },
  {
   "cell_type": "code",
   "execution_count": null,
   "id": "d31df3c2",
   "metadata": {},
   "outputs": [],
   "source": []
  },
  {
   "cell_type": "code",
   "execution_count": null,
   "id": "2ab5ecc6",
   "metadata": {},
   "outputs": [],
   "source": []
  },
  {
   "cell_type": "code",
   "execution_count": null,
   "id": "9310e7ed",
   "metadata": {},
   "outputs": [],
   "source": []
  },
  {
   "cell_type": "code",
   "execution_count": null,
   "id": "55a36fb1",
   "metadata": {},
   "outputs": [],
   "source": [
    "########################################################################"
   ]
  },
  {
   "cell_type": "code",
   "execution_count": 6,
   "id": "2f98a9ea",
   "metadata": {},
   "outputs": [],
   "source": [
    "A=[\"apple\",1,3.07,\"orange\"]\n",
    "B=[\"bananna\",100,77,\"grapes\"]"
   ]
  },
  {
   "cell_type": "code",
   "execution_count": 9,
   "id": "809f0f5c",
   "metadata": {},
   "outputs": [
    {
     "ename": "ValueError",
     "evalue": "too many values to unpack (expected 2)",
     "output_type": "error",
     "traceback": [
      "\u001b[0;31m---------------------------------------------------------------------------\u001b[0m",
      "\u001b[0;31mValueError\u001b[0m                                Traceback (most recent call last)",
      "\u001b[0;32m/var/folders/g8/3xhdztt918n5fr0997gcttmr0000gp/T/ipykernel_19701/757647599.py\u001b[0m in \u001b[0;36m<module>\u001b[0;34m\u001b[0m\n\u001b[0;32m----> 1\u001b[0;31m \u001b[0;32mfor\u001b[0m \u001b[0mkey1\u001b[0m\u001b[0;34m,\u001b[0m\u001b[0mkey2\u001b[0m \u001b[0;32min\u001b[0m \u001b[0mA\u001b[0m\u001b[0;34m,\u001b[0m\u001b[0mB\u001b[0m\u001b[0;34m:\u001b[0m\u001b[0;34m\u001b[0m\u001b[0;34m\u001b[0m\u001b[0m\n\u001b[0m\u001b[1;32m      2\u001b[0m     \u001b[0mprint\u001b[0m\u001b[0;34m(\u001b[0m\u001b[0mkey1\u001b[0m\u001b[0;34m)\u001b[0m\u001b[0;34m\u001b[0m\u001b[0;34m\u001b[0m\u001b[0m\n",
      "\u001b[0;31mValueError\u001b[0m: too many values to unpack (expected 2)"
     ]
    }
   ],
   "source": [
    "for key1,key2 in A,B:\n",
    "    print(key1)x"
   ]
  },
  {
   "cell_type": "code",
   "execution_count": 13,
   "id": "d48b403e",
   "metadata": {},
   "outputs": [
    {
     "name": "stdout",
     "output_type": "stream",
     "text": [
      "1 red 255\n",
      "2 while 256\n",
      "3 black 24423\n",
      "None None 2343423\n",
      "None None 1123\n",
      "None None 2342\n",
      "None None 2342342\n"
     ]
    }
   ],
   "source": [
    "import itertools\n",
    " \n",
    "num = [1, 2, 3]\n",
    "color = ['red', 'while', 'black']\n",
    "value = [255, 256,24423,2343423,1123,2342,2342342]\n",
    " \n",
    "# iterates over 3 lists and executes\n",
    "# 2 times as len(value)= 2 which is the\n",
    "# minimum among all the three\n",
    "for (a, b, c) in itertools.zip_longest(num, color, value):\n",
    "     print (a, b, c)"
   ]
  },
  {
   "cell_type": "code",
   "execution_count": null,
   "id": "0d27743e",
   "metadata": {},
   "outputs": [],
   "source": []
  },
  {
   "cell_type": "code",
   "execution_count": null,
   "id": "2795852e",
   "metadata": {},
   "outputs": [],
   "source": []
  }
 ],
 "metadata": {
  "kernelspec": {
   "display_name": "Python 3 (ipykernel)",
   "language": "python",
   "name": "python3"
  },
  "language_info": {
   "codemirror_mode": {
    "name": "ipython",
    "version": 3
   },
   "file_extension": ".py",
   "mimetype": "text/x-python",
   "name": "python",
   "nbconvert_exporter": "python",
   "pygments_lexer": "ipython3",
   "version": "3.9.13"
  }
 },
 "nbformat": 4,
 "nbformat_minor": 5
}
